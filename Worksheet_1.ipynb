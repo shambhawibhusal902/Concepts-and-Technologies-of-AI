{
  "nbformat": 4,
  "nbformat_minor": 0,
  "metadata": {
    "colab": {
      "provenance": []
    },
    "kernelspec": {
      "name": "python3",
      "display_name": "Python 3"
    },
    "language_info": {
      "name": "python"
    }
  },
  "cells": [
    {
      "cell_type": "code",
      "execution_count": null,
      "metadata": {
        "colab": {
          "base_uri": "https://localhost:8080/"
        },
        "id": "r9jUqaVwWLym",
        "outputId": "c109340e-319e-47d6-a8ee-08d5264fc400"
      },
      "outputs": [
        {
          "output_type": "execute_result",
          "data": {
            "text/plain": [
              "array([[0., 0.],\n",
              "       [0., 0.]])"
            ]
          },
          "metadata": {},
          "execution_count": 9
        }
      ],
      "source": [
        "# Problem - 1: Array creation:\n",
        "\"\"\"\n",
        "Complete the following Tasks:\n",
        "1. Initialize an empty array with size 2X2.\n",
        "2. Initialize an all one array with size 4X2.\n",
        "3. Return a new array of given shape and type, filled with fill value.{Hint: np.full}\n",
        "4. Return a new array of zeros with same shape and type as a given array.{Hint: np.zeros like}\n",
        "5. Return a new array of ones with same shape and type as a given array.{Hint: np.ones like}\n",
        "6. For an existing list new_list = [1,2,3,4] convert to an numpy array.{Hint: np.array()}\n",
        "\"\"\"\n",
        "\n",
        "# 1.\n",
        "import numpy as np;\n",
        "empty_array = np.zeros((2, 2))\n",
        "empty_array"
      ]
    },
    {
      "cell_type": "code",
      "source": [
        "# 2.\n",
        "import numpy as np;\n",
        "one_array = np.ones((4, 2))\n",
        "one_array"
      ],
      "metadata": {
        "colab": {
          "base_uri": "https://localhost:8080/"
        },
        "id": "MrII0MlwX5So",
        "outputId": "96d08a0f-c8e1-456c-e063-6907c7121b96"
      },
      "execution_count": null,
      "outputs": [
        {
          "output_type": "execute_result",
          "data": {
            "text/plain": [
              "array([[1., 1.],\n",
              "       [1., 1.],\n",
              "       [1., 1.],\n",
              "       [1., 1.]])"
            ]
          },
          "metadata": {},
          "execution_count": 10
        }
      ]
    },
    {
      "cell_type": "code",
      "source": [
        "# 3.\n",
        "import numpy as np;\n",
        "new_array = np.full((4, 2), fill_value = 111)\n",
        "print(\"Array with given shape and type: \")\n",
        "new_array\n"
      ],
      "metadata": {
        "colab": {
          "base_uri": "https://localhost:8080/"
        },
        "id": "nycE2bbPdVyw",
        "outputId": "a3066f2a-45bd-4fb5-8f74-0d9b262e7f0e"
      },
      "execution_count": null,
      "outputs": [
        {
          "output_type": "stream",
          "name": "stdout",
          "text": [
            "Array with given shape and type: \n"
          ]
        },
        {
          "output_type": "execute_result",
          "data": {
            "text/plain": [
              "array([[111, 111],\n",
              "       [111, 111],\n",
              "       [111, 111],\n",
              "       [111, 111]])"
            ]
          },
          "metadata": {},
          "execution_count": 11
        }
      ]
    },
    {
      "cell_type": "code",
      "source": [
        "# 4.\n",
        "import numpy as np\n",
        "first_array = np.array([[1, 2], [3, 4], [5, 6], [7, 8]])\n",
        "new_array = np.zeros_like(first_array)\n",
        "print(new_array)"
      ],
      "metadata": {
        "colab": {
          "base_uri": "https://localhost:8080/"
        },
        "id": "G-CuMllxwpS7",
        "outputId": "3bad5171-ab3a-48fd-f871-2df02284a4eb"
      },
      "execution_count": null,
      "outputs": [
        {
          "output_type": "stream",
          "name": "stdout",
          "text": [
            "[[0 0]\n",
            " [0 0]\n",
            " [0 0]\n",
            " [0 0]]\n"
          ]
        }
      ]
    },
    {
      "cell_type": "code",
      "source": [
        "# 5.\n",
        "import numpy as np\n",
        "first_array = np.array([[1, 2], [3, 4], [5, 6], [7, 8]])\n",
        "new_array = np.ones_like(first_array)\n",
        "print(new_array)"
      ],
      "metadata": {
        "colab": {
          "base_uri": "https://localhost:8080/"
        },
        "id": "eY80KcfO2TkD",
        "outputId": "610e1db5-96e1-4269-9de6-fb8ca40225b5"
      },
      "execution_count": null,
      "outputs": [
        {
          "output_type": "stream",
          "name": "stdout",
          "text": [
            "[[1 1]\n",
            " [1 1]\n",
            " [1 1]\n",
            " [1 1]]\n"
          ]
        }
      ]
    },
    {
      "cell_type": "code",
      "source": [
        "# 6.\n",
        "import numpy as np\n",
        "new_list = [1, 2, 3, 4]\n",
        "convert_list = np.array(new_list)\n",
        "convert_list"
      ],
      "metadata": {
        "colab": {
          "base_uri": "https://localhost:8080/"
        },
        "id": "k60jNyTJ2dOO",
        "outputId": "c1b2708a-92bf-4e1d-9d80-b9011e6284a4"
      },
      "execution_count": null,
      "outputs": [
        {
          "output_type": "execute_result",
          "data": {
            "text/plain": [
              "array([1, 2, 3, 4])"
            ]
          },
          "metadata": {},
          "execution_count": 34
        }
      ]
    },
    {
      "cell_type": "code",
      "source": [
        "# Problem - 2: Array Manipulation: Numerical Ranges and Array indexing:\n",
        "\"\"\"\n",
        "Complete the following tasks:\n",
        "1. Create an array with values ranging from 10 to 49. {Hint:np.arrange()}.\n",
        "2. Create a 3X3 matrix with values ranging from 0 to 8.\n",
        "{Hint:look for np.reshape()}\n",
        "3. Create a 3X3 identity matrix.{Hint:np.eye()}\n",
        "4. Create a random array of size 30 and find the mean of the array.\n",
        "{Hint:check for np.random.random() and array.mean() function}\n",
        "5. Create a 10X10 array with random values and find the minimum and maximum values.\n",
        "6. Create a zero array of size 10 and replace 5th element with 1.\n",
        "7. Reverse an array arr = [1,2,0,0,4,0].\n",
        "8. Create a 2d array with 1 on border and 0 inside.\n",
        "9. Create a 8X8 matrix and fill it with a checkerboard pattern.\n",
        "\"\"\"\n",
        "\n",
        "# 1.\n",
        "import numpy as np\n",
        "array_one = np.arange(10, 49)\n",
        "array_one"
      ],
      "metadata": {
        "colab": {
          "base_uri": "https://localhost:8080/"
        },
        "id": "hJWhUEtf4rIH",
        "outputId": "0a4ca007-d081-40e3-c767-641561f9f2cf"
      },
      "execution_count": null,
      "outputs": [
        {
          "output_type": "execute_result",
          "data": {
            "text/plain": [
              "array([10, 11, 12, 13, 14, 15, 16, 17, 18, 19, 20, 21, 22, 23, 24, 25, 26,\n",
              "       27, 28, 29, 30, 31, 32, 33, 34, 35, 36, 37, 38, 39, 40, 41, 42, 43,\n",
              "       44, 45, 46, 47, 48])"
            ]
          },
          "metadata": {},
          "execution_count": 36
        }
      ]
    },
    {
      "cell_type": "code",
      "source": [
        "# 2.\n",
        "import numpy as np\n",
        "array_two = np.arange(9).reshape(3, 3)\n",
        "array_two"
      ],
      "metadata": {
        "colab": {
          "base_uri": "https://localhost:8080/"
        },
        "id": "AqzvKU4m41Ke",
        "outputId": "7241f775-fc63-4953-b73a-96c52334daa0"
      },
      "execution_count": null,
      "outputs": [
        {
          "output_type": "execute_result",
          "data": {
            "text/plain": [
              "array([[0, 1, 2],\n",
              "       [3, 4, 5],\n",
              "       [6, 7, 8]])"
            ]
          },
          "metadata": {},
          "execution_count": 38
        }
      ]
    },
    {
      "cell_type": "code",
      "source": [
        "# 3.\n",
        "import numpy as np\n",
        "array_three = np.eye(3)\n",
        "array_three"
      ],
      "metadata": {
        "colab": {
          "base_uri": "https://localhost:8080/"
        },
        "id": "PoWm5-rs42k0",
        "outputId": "4699849c-6a5a-4a9c-c802-8fb281e4fc54"
      },
      "execution_count": null,
      "outputs": [
        {
          "output_type": "execute_result",
          "data": {
            "text/plain": [
              "array([[1., 0., 0.],\n",
              "       [0., 1., 0.],\n",
              "       [0., 0., 1.]])"
            ]
          },
          "metadata": {},
          "execution_count": 39
        }
      ]
    },
    {
      "cell_type": "code",
      "source": [
        "# 4.\n",
        "import numpy as np\n",
        "array_four = np.random.random(30)\n",
        "array_four\n",
        "array_four = np.mean(array_four)\n",
        "array_four"
      ],
      "metadata": {
        "colab": {
          "base_uri": "https://localhost:8080/"
        },
        "id": "qm7MAnJp5q6L",
        "outputId": "5df91052-60b3-4c01-b507-5eaaed16c56d"
      },
      "execution_count": null,
      "outputs": [
        {
          "output_type": "execute_result",
          "data": {
            "text/plain": [
              "0.4859590821183541"
            ]
          },
          "metadata": {},
          "execution_count": 40
        }
      ]
    },
    {
      "cell_type": "code",
      "source": [
        "# 5.\n",
        "import numpy as np\n",
        "array_five = np.random.rand(10, 10), np.max, np.min\n",
        "array_five"
      ],
      "metadata": {
        "colab": {
          "base_uri": "https://localhost:8080/"
        },
        "id": "obqXuOJs5uIt",
        "outputId": "86b37be7-4a31-4373-b5a7-2897199fc638"
      },
      "execution_count": null,
      "outputs": [
        {
          "output_type": "execute_result",
          "data": {
            "text/plain": [
              "(array([[0.84961943, 0.74313904, 0.85347023, 0.22564101, 0.79224943,\n",
              "         0.92183385, 0.38577396, 0.33163157, 0.62648738, 0.8748379 ],\n",
              "        [0.79335241, 0.3335873 , 0.10665099, 0.56280567, 0.83437503,\n",
              "         0.92039846, 0.61225155, 0.110106  , 0.23392318, 0.21785043],\n",
              "        [0.88566851, 0.90023726, 0.67602786, 0.27573869, 0.25859523,\n",
              "         0.41191703, 0.56912136, 0.36076623, 0.21943105, 0.09401092],\n",
              "        [0.23709819, 0.01036073, 0.89696383, 0.44699748, 0.06438371,\n",
              "         0.61956312, 0.89993764, 0.56891006, 0.22135331, 0.93550317],\n",
              "        [0.10378597, 0.73864943, 0.7135975 , 0.68109952, 0.57317868,\n",
              "         0.36827213, 0.65773571, 0.07733703, 0.73188268, 0.66587103],\n",
              "        [0.48665269, 0.390446  , 0.58409149, 0.64486655, 0.85644654,\n",
              "         0.16803601, 0.25206535, 0.7536677 , 0.89122056, 0.94082294],\n",
              "        [0.87988172, 0.17088621, 0.42966856, 0.28532851, 0.53790852,\n",
              "         0.06178926, 0.81409387, 0.74031517, 0.46394272, 0.47211333],\n",
              "        [0.23200605, 0.19599922, 0.36276392, 0.89846829, 0.33414229,\n",
              "         0.65858054, 0.90726757, 0.73546116, 0.61209941, 0.87440648],\n",
              "        [0.63093179, 0.67642653, 0.40605217, 0.86134291, 0.43211458,\n",
              "         0.28067353, 0.78752919, 0.80598305, 0.32633845, 0.96017735],\n",
              "        [0.04722819, 0.96525106, 0.64587783, 0.31932726, 0.40796272,\n",
              "         0.05256091, 0.51045172, 0.06053699, 0.67979198, 0.30598961]]),\n",
              " <function max at 0x7d8d32fef070>,\n",
              " <function min at 0x7d8d32fef470>)"
            ]
          },
          "metadata": {},
          "execution_count": 41
        }
      ]
    },
    {
      "cell_type": "code",
      "source": [
        "# 6.\n",
        "import numpy as np\n",
        "six_array = np.zeros(10)\n",
        "six_array\n",
        "\n",
        "six_array[4] = 1\n",
        "six_array"
      ],
      "metadata": {
        "colab": {
          "base_uri": "https://localhost:8080/"
        },
        "id": "XTL6Hm8h6Zae",
        "outputId": "8840d621-411f-4bdd-a796-7aefa6a6ba43"
      },
      "execution_count": null,
      "outputs": [
        {
          "output_type": "execute_result",
          "data": {
            "text/plain": [
              "array([0., 0., 0., 0., 1., 0., 0., 0., 0., 0.])"
            ]
          },
          "metadata": {},
          "execution_count": 42
        }
      ]
    },
    {
      "cell_type": "code",
      "source": [
        "# 7.\n",
        "import numpy as np\n",
        "array = [1, 2, 0, 0, 4, 0]\n",
        "seven_array = np.flip(array)\n",
        "seven_array"
      ],
      "metadata": {
        "colab": {
          "base_uri": "https://localhost:8080/"
        },
        "id": "8Co7-g9d6csN",
        "outputId": "ba477559-3015-434e-91a9-166c44a145c9"
      },
      "execution_count": null,
      "outputs": [
        {
          "output_type": "execute_result",
          "data": {
            "text/plain": [
              "array([0, 4, 0, 0, 2, 1])"
            ]
          },
          "metadata": {},
          "execution_count": 43
        }
      ]
    },
    {
      "cell_type": "code",
      "source": [
        "# 8.\n",
        "import numpy as np\n",
        "eight_array = np.ones((5, 5))\n",
        "print(\"1 on the border and 0 inside the array:\")\n",
        "eight_array[1: -1, 1: - 1] = 0\n",
        "(eight_array)"
      ],
      "metadata": {
        "colab": {
          "base_uri": "https://localhost:8080/"
        },
        "id": "norpEWc-6jjD",
        "outputId": "4b63a01a-57f1-4c89-aafa-a5f6f5068a80"
      },
      "execution_count": null,
      "outputs": [
        {
          "output_type": "stream",
          "name": "stdout",
          "text": [
            "1 on the border and 0 inside the array:\n"
          ]
        },
        {
          "output_type": "execute_result",
          "data": {
            "text/plain": [
              "array([[1., 1., 1., 1., 1.],\n",
              "       [1., 0., 0., 0., 1.],\n",
              "       [1., 0., 0., 0., 1.],\n",
              "       [1., 0., 0., 0., 1.],\n",
              "       [1., 1., 1., 1., 1.]])"
            ]
          },
          "metadata": {},
          "execution_count": 44
        }
      ]
    },
    {
      "cell_type": "code",
      "source": [
        "# 9.\n",
        "import numpy as np\n",
        "nine_array = np.zeros((8, 7))\n",
        "\n",
        "nine_array [::2, ::2] = 1\n",
        "nine_array [::2, 1::2] = 1\n",
        "nine_array"
      ],
      "metadata": {
        "colab": {
          "base_uri": "https://localhost:8080/"
        },
        "id": "kYPmwI0p6let",
        "outputId": "227f34a4-9506-4a01-aa3a-cba1691a08c6"
      },
      "execution_count": null,
      "outputs": [
        {
          "output_type": "execute_result",
          "data": {
            "text/plain": [
              "array([[1., 1., 1., 1., 1., 1., 1.],\n",
              "       [0., 0., 0., 0., 0., 0., 0.],\n",
              "       [1., 1., 1., 1., 1., 1., 1.],\n",
              "       [0., 0., 0., 0., 0., 0., 0.],\n",
              "       [1., 1., 1., 1., 1., 1., 1.],\n",
              "       [0., 0., 0., 0., 0., 0., 0.],\n",
              "       [1., 1., 1., 1., 1., 1., 1.],\n",
              "       [0., 0., 0., 0., 0., 0., 0.]])"
            ]
          },
          "metadata": {},
          "execution_count": 45
        }
      ]
    },
    {
      "cell_type": "code",
      "source": [
        "\"\"\"\n",
        "Problem - 3: Array Operations:\n",
        "         For the following arrays:\n",
        "           x = np.array([[1,2],[3,5]]) and y = np.array([[5,6],[7,8]]);\n",
        "           v = np.array([9,10]) and w = np.array([11,12]);\n",
        "             Complete all the task using numpy:\n",
        "1. Add the two array.\n",
        "2. Subtract the two array.\n",
        "3. Multiply the array with any integers of your choice.\n",
        "4. Find the square of each element of the array.\n",
        "5. Find the dot product between: v(and)w ; x(and)v ; x(and)y.\n",
        "6. Concatenate x(and)y along row and Concatenate v(and)w along column.\n",
        "{Hint:try np.concatenate() or np.vstack() functions.\n",
        "7. Concatenate x(and)v; if you get an error, observe and explain why did you get the error?\n",
        "\"\"\"\n",
        "\n",
        "# 1.\n",
        "import numpy as np\n",
        "x = np.array([[1,2], [3,5]])\n",
        "y = np.array([[5,6], [7,8]])\n",
        "v = np.array([9, 10])\n",
        "w = np.array([11, 12])\n",
        "\n",
        "one_array = np.add(x, y)\n",
        "one_array"
      ],
      "metadata": {
        "id": "xcr1__gt6oKV",
        "colab": {
          "base_uri": "https://localhost:8080/"
        },
        "outputId": "07792494-6ab9-4c70-cd8d-86d9090c8076"
      },
      "execution_count": null,
      "outputs": [
        {
          "output_type": "execute_result",
          "data": {
            "text/plain": [
              "array([[ 6,  8],\n",
              "       [10, 13]])"
            ]
          },
          "metadata": {},
          "execution_count": 3
        }
      ]
    },
    {
      "cell_type": "code",
      "source": [
        "# 2.\n",
        "import numpy as np\n",
        "two_array = np.subtract(x, y)\n",
        "two_array"
      ],
      "metadata": {
        "id": "4wqgHGZo7PNm",
        "colab": {
          "base_uri": "https://localhost:8080/"
        },
        "outputId": "df0f0e07-881d-4a12-abd0-56c23d77e7ff"
      },
      "execution_count": null,
      "outputs": [
        {
          "output_type": "execute_result",
          "data": {
            "text/plain": [
              "array([[-4, -4],\n",
              "       [-4, -3]])"
            ]
          },
          "metadata": {},
          "execution_count": 4
        }
      ]
    },
    {
      "cell_type": "code",
      "source": [
        "# 3.\n",
        "import numpy as np\n",
        "three_array = np.multiply(3, x)\n",
        "three_array"
      ],
      "metadata": {
        "id": "yi7zxXvr7Twe",
        "colab": {
          "base_uri": "https://localhost:8080/"
        },
        "outputId": "0b81f1ce-80c4-471e-c3e6-e54a9ebf9ed0"
      },
      "execution_count": null,
      "outputs": [
        {
          "output_type": "execute_result",
          "data": {
            "text/plain": [
              "array([[ 3,  6],\n",
              "       [ 9, 15]])"
            ]
          },
          "metadata": {},
          "execution_count": 5
        }
      ]
    },
    {
      "cell_type": "code",
      "source": [
        "# 4.\n",
        "import numpy as np\n",
        "square_1 = np.square(x)\n",
        "square_1\n",
        "square_2 = np.square(y)\n",
        "square_2"
      ],
      "metadata": {
        "colab": {
          "base_uri": "https://localhost:8080/"
        },
        "id": "XB2emRfj1y4k",
        "outputId": "a3b2a9bf-693d-4cec-e841-b96d06054ff9"
      },
      "execution_count": null,
      "outputs": [
        {
          "output_type": "execute_result",
          "data": {
            "text/plain": [
              "array([[25, 36],\n",
              "       [49, 64]])"
            ]
          },
          "metadata": {},
          "execution_count": 6
        }
      ]
    },
    {
      "cell_type": "code",
      "source": [
        "# 5.\n",
        "import numpy as np\n",
        "x = np.array([[1,2],[3,6]])\n",
        "y = np.array([[5,6],[7,8]])\n",
        "dot1 = np.dot(x,y)\n",
        "print(dot1)\n",
        "\n",
        "v = np.array([9, 10])\n",
        "w = np.array([11,12])\n",
        "dot2 = np.dot(v,w)\n",
        "print(dot2)\n",
        "\n",
        "dot3 = np.dot(x,v)\n",
        "print(dot3)"
      ],
      "metadata": {
        "colab": {
          "base_uri": "https://localhost:8080/"
        },
        "id": "kfV38Taw13g-",
        "outputId": "0e151f3e-91e5-42e6-b2d2-d6811a91bcb7"
      },
      "execution_count": null,
      "outputs": [
        {
          "output_type": "stream",
          "name": "stdout",
          "text": [
            "[[19 22]\n",
            " [57 66]]\n",
            "219\n",
            "[29 87]\n"
          ]
        }
      ]
    },
    {
      "cell_type": "code",
      "source": [
        "# 6.\n",
        "import numpy as np\n",
        "x = np.array([[1,2],[3,5]])\n",
        "y = np.array([[5,6],[7,8]])\n",
        "\n",
        "v = np.array([9,10])\n",
        "w = np.array([11,12])\n",
        "concate_1 = np.concatenate((x,y), axis = 1)\n",
        "print(concate_1)\n",
        "\n",
        "concate_2 = np.concatenate((v,w), axis = 0)\n",
        "print(concate_2)"
      ],
      "metadata": {
        "colab": {
          "base_uri": "https://localhost:8080/"
        },
        "id": "2QrgUSXl18vi",
        "outputId": "de97ac4a-fb54-4e1c-83d7-97f5ebaf570c"
      },
      "execution_count": null,
      "outputs": [
        {
          "output_type": "stream",
          "name": "stdout",
          "text": [
            "[[1 2 5 6]\n",
            " [3 5 7 8]]\n",
            "[ 9 10 11 12]\n"
          ]
        }
      ]
    },
    {
      "cell_type": "code",
      "source": [
        "# 7.\n",
        "import numpy as np\n",
        "concate_3 = np.concatenate((x,v))"
      ],
      "metadata": {
        "colab": {
          "base_uri": "https://localhost:8080/",
          "height": 200
        },
        "id": "xP-N0l611_Kb",
        "outputId": "2df3a975-db87-4017-e98f-d105802574fe"
      },
      "execution_count": null,
      "outputs": [
        {
          "output_type": "error",
          "ename": "ValueError",
          "evalue": "all the input arrays must have same number of dimensions, but the array at index 0 has 2 dimension(s) and the array at index 1 has 1 dimension(s)",
          "traceback": [
            "\u001b[0;31m---------------------------------------------------------------------------\u001b[0m",
            "\u001b[0;31mValueError\u001b[0m                                Traceback (most recent call last)",
            "\u001b[0;32m<ipython-input-11-6b4dd8d78ad0>\u001b[0m in \u001b[0;36m<cell line: 3>\u001b[0;34m()\u001b[0m\n\u001b[1;32m      1\u001b[0m \u001b[0;31m# 7.\u001b[0m\u001b[0;34m\u001b[0m\u001b[0;34m\u001b[0m\u001b[0m\n\u001b[1;32m      2\u001b[0m \u001b[0;32mimport\u001b[0m \u001b[0mnumpy\u001b[0m \u001b[0;32mas\u001b[0m \u001b[0mnp\u001b[0m\u001b[0;34m\u001b[0m\u001b[0;34m\u001b[0m\u001b[0m\n\u001b[0;32m----> 3\u001b[0;31m \u001b[0mconcate_3\u001b[0m \u001b[0;34m=\u001b[0m \u001b[0mnp\u001b[0m\u001b[0;34m.\u001b[0m\u001b[0mconcatenate\u001b[0m\u001b[0;34m(\u001b[0m\u001b[0;34m(\u001b[0m\u001b[0mx\u001b[0m\u001b[0;34m,\u001b[0m\u001b[0mv\u001b[0m\u001b[0;34m)\u001b[0m\u001b[0;34m)\u001b[0m\u001b[0;34m\u001b[0m\u001b[0;34m\u001b[0m\u001b[0m\n\u001b[0m",
            "\u001b[0;31mValueError\u001b[0m: all the input arrays must have same number of dimensions, but the array at index 0 has 2 dimension(s) and the array at index 1 has 1 dimension(s)"
          ]
        }
      ]
    },
    {
      "cell_type": "code",
      "source": [
        "\"\"\"\n",
        "Problem - 4: Matrix Operations:\n",
        "             • For the following arrays:\n",
        "               A = np.array([[3,4],[7,8]]) and B = np.array([[5,3],[2,1]]);\n",
        "                Prove following with Numpy:\n",
        "                 1. Prove A.A−1 = I.\n",
        "                 2. Prove AB ̸= BA.\n",
        "                 3. Prove (AB)T = BTAT.\n",
        "\n",
        "\n",
        "• Solve the following system of Linear equation using Inverse Methods.\n",
        "\n",
        "2x − 3y + z = −1\n",
        "x − y + 2z = −3\n",
        "3x + y − z = 9\n",
        "\n",
        "{Hint: First use Numpy array to represent the equation in Matrix form. Then Solve for: AX = B}\n",
        "• Now: solve the above equation using np.linalg.inv function.{Explore more about ”linalg” function\n",
        "of Numpy}\n",
        "\"\"\"\n",
        "\n",
        "# 1. Prove A.A*^(−1) = I.\n",
        "import numpy as np\n",
        "A = np.array([[3,4],[7,8]])\n",
        "B = np.array([[5,3],[2,1]])\n",
        "A_inverse = np.linalg.inv(A)\n",
        "check_identity = np.dot(A, A_inverse)\n",
        "print(\"A * A^(-1) = I:\")\n",
        "print(check_identity)"
      ],
      "metadata": {
        "colab": {
          "base_uri": "https://localhost:8080/"
        },
        "id": "7iHv__NA2zHt",
        "outputId": "cdcb5fd2-7e82-4be5-8eb9-a43e2960eecc"
      },
      "execution_count": null,
      "outputs": [
        {
          "output_type": "stream",
          "name": "stdout",
          "text": [
            "A * A^(-1) = I:\n",
            "[[1.00000000e+00 0.00000000e+00]\n",
            " [1.77635684e-15 1.00000000e+00]]\n"
          ]
        }
      ]
    },
    {
      "cell_type": "code",
      "source": [
        "# 2. Prove AB ̸= BA.\n",
        "import numpy as np\n",
        "A = np.array([[3,4],[7,8]])\n",
        "B = np.array([[5,3],[2,1]])\n",
        "AB = np.dot(A, B)\n",
        "BA = np.dot(B, A)\n",
        "print(\"AB != BA:\")\n",
        "print(\"AB:\")\n",
        "print(AB)\n",
        "print(\"BA:\")\n",
        "print(BA)\n",
        "print(\"AB and BA are equal?\", np.array_equal(AB, BA))"
      ],
      "metadata": {
        "colab": {
          "base_uri": "https://localhost:8080/"
        },
        "id": "7LpgPona25Fk",
        "outputId": "12a852de-66b0-462d-a73c-86a9720b5beb"
      },
      "execution_count": null,
      "outputs": [
        {
          "output_type": "stream",
          "name": "stdout",
          "text": [
            "AB != BA:\n",
            "AB:\n",
            "[[23 13]\n",
            " [51 29]]\n",
            "BA:\n",
            "[[36 44]\n",
            " [13 16]]\n",
            "Are AB and BA equal? False\n"
          ]
        }
      ]
    },
    {
      "cell_type": "code",
      "source": [
        "# 3. Prove (AB)^T = B^T*A^T\n",
        "import numpy as np\n",
        "A = np.array([[3,4],[7,8]])\n",
        "B = np.array([[5,3],[2,1]])\n",
        "AB_transpose = np.transpose(AB)\n",
        "BT_AT = np.dot(B.T, A.T)\n",
        "\n",
        "print(\"(AB)^T = B^T*A^T:\")\n",
        "print(\"(AB)^T:\")\n",
        "print(AB_transpose)\n",
        "print(\"B^T*A^T:\")\n",
        "print(BT_AT)\n",
        "print(\"(AB)^T and B^T * A^T are equal?\", np.array_equal(AB_transpose, BT_AT))"
      ],
      "metadata": {
        "colab": {
          "base_uri": "https://localhost:8080/"
        },
        "id": "ZjkmGqg925gc",
        "outputId": "95269b74-0884-4fd2-8d9f-98a868eec03a"
      },
      "execution_count": null,
      "outputs": [
        {
          "output_type": "stream",
          "name": "stdout",
          "text": [
            "(AB)^T = B^T*A^T:\n",
            "(AB)^T:\n",
            "[[23 51]\n",
            " [13 29]]\n",
            "B^T*A^T:\n",
            "[[23 51]\n",
            " [13 29]]\n",
            "(AB)^T and B^T * A^T are equal? True\n"
          ]
        }
      ]
    },
    {
      "cell_type": "code",
      "source": [
        "\"\"\"\n",
        "Solve the following system of Linear equation using Inverse Methods.\n",
        "\n",
        "2x − 3y + z = −1\n",
        "x − y + 2z = −3\n",
        "3x + y − z = 9\n",
        "\"\"\"\n",
        "\n",
        "import numpy as np\n",
        "A = np.array([[2, -3, 1], [1, -1, 2], [3, 1, -1]])\n",
        "B = np.array([-1, -3, 9])\n",
        "\n",
        "A_inverse = np.linalg.inv(A)\n",
        "print(\"Inverse of A:\\n\", A_inverse)\n",
        "\n",
        "X = np.dot(A_inverse, B)\n",
        "print(\"Solution x:\", np.linalg.solve(A, B))"
      ],
      "metadata": {
        "colab": {
          "base_uri": "https://localhost:8080/"
        },
        "id": "yWGoHNg9Bmba",
        "outputId": "467315fa-946f-488c-b678-2657dfbb9761"
      },
      "execution_count": null,
      "outputs": [
        {
          "output_type": "stream",
          "name": "stdout",
          "text": [
            "Inverse of A:\n",
            " [[ 0.05263158  0.10526316  0.26315789]\n",
            " [-0.36842105  0.26315789  0.15789474]\n",
            " [-0.21052632  0.57894737 -0.05263158]]\n",
            "Solution x: [ 2.  1. -2.]\n"
          ]
        }
      ]
    }
  ]
}